{
 "cells": [
  {
   "cell_type": "code",
   "execution_count": 2,
   "metadata": {},
   "outputs": [
    {
     "name": "stdout",
     "output_type": "stream",
     "text": [
      "z-score: 14.737917367493464, p-value: 3.67957905234801e-49\n"
     ]
    }
   ],
   "source": [
    "from statsmodels.stats.proportion import proportions_ztest\n",
    "# agressivefirstbot wins k1 out of N1 in play against randbot\n",
    "k1=785\n",
    "N1=1000\n",
    "# agressivesecondbot wins k2 out of N2 in play against randbot\n",
    "k2=466\n",
    "N2=1000\n",
    "zscore, pval = proportions_ztest([k1,k2], [N1,N2])\n",
    "\n",
    "print(f\"z-score: {zscore}, p-value: {pval}\")\n"
   ]
  }
 ],
 "metadata": {
  "kernelspec": {
   "display_name": "vu",
   "language": "python",
   "name": "python3"
  },
  "language_info": {
   "codemirror_mode": {
    "name": "ipython",
    "version": 3
   },
   "file_extension": ".py",
   "mimetype": "text/x-python",
   "name": "python",
   "nbconvert_exporter": "python",
   "pygments_lexer": "ipython3",
   "version": "3.10.12"
  }
 },
 "nbformat": 4,
 "nbformat_minor": 2
}
